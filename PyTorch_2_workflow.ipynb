{
  "nbformat": 4,
  "nbformat_minor": 0,
  "metadata": {
    "colab": {
      "provenance": []
    },
    "kernelspec": {
      "name": "python3",
      "display_name": "Python 3"
    },
    "language_info": {
      "name": "python"
    }
  },
  "cells": [
    {
      "cell_type": "markdown",
      "source": [
        "To do:\n",
        "1. data prepare and load\n",
        "2.Build model\n",
        "3. fitting the model to data(training)\n",
        "4. making predictions and evaluting the model\n",
        "5.saving and loading a model\n",
        "6. putting it all together\n"
      ],
      "metadata": {
        "id": "y6BLdwTJgIcQ"
      }
    },
    {
      "cell_type": "code",
      "execution_count": null,
      "metadata": {
        "colab": {
          "base_uri": "https://localhost:8080/",
          "height": 35
        },
        "id": "ulO4c5k0d0iE",
        "outputId": "d4978b95-f0fb-4e3e-ccee-46fc3f7efbd9"
      },
      "outputs": [
        {
          "output_type": "execute_result",
          "data": {
            "text/plain": [
              "'2.5.1+cu121'"
            ],
            "application/vnd.google.colaboratory.intrinsic+json": {
              "type": "string"
            }
          },
          "metadata": {},
          "execution_count": 1
        }
      ],
      "source": [
        "import torch\n",
        "from torch import nn  # nn contains all of PyTorch's building blocks for neural networks\n",
        "import matplotlib.pyplot as plt\n",
        "\n",
        "torch.__version__"
      ]
    },
    {
      "cell_type": "markdown",
      "source": [
        "##Data preparing and loading\n",
        "\n",
        "* Excel spreadsheet\n",
        "* Image of any kind\n",
        "* Videos\n",
        "* Audio\n",
        "* DNA\n",
        "* text"
      ],
      "metadata": {
        "id": "-J1kma0KiDMA"
      }
    },
    {
      "cell_type": "markdown",
      "source": [
        "##Machine learning is a game of two parts:\n",
        "\n",
        "Turn your data, into numbers (a representation).\n",
        "\n",
        "Pick or build a model to learn the representation as best as possible"
      ],
      "metadata": {
        "id": "o8B7AODvioVR"
      }
    },
    {
      "cell_type": "code",
      "source": [
        "# Create *Known* parameters\n",
        "weight = 0.7\n",
        "bias = 0.3\n",
        "\n",
        "start = 0\n",
        "end = 1\n",
        "step = 0.02\n",
        "X = torch.arange(start,end,step).unsqueeze(dim = 1)\n",
        "y = weight * X + bias\n",
        "\n",
        "X[:10], y[:10]\n"
      ],
      "metadata": {
        "colab": {
          "base_uri": "https://localhost:8080/"
        },
        "id": "fxD9AcxuiBod",
        "outputId": "8cfa282c-1c0c-4f1a-cee3-631d6fd6c879"
      },
      "execution_count": null,
      "outputs": [
        {
          "output_type": "execute_result",
          "data": {
            "text/plain": [
              "(tensor([[0.0000],\n",
              "         [0.0200],\n",
              "         [0.0400],\n",
              "         [0.0600],\n",
              "         [0.0800],\n",
              "         [0.1000],\n",
              "         [0.1200],\n",
              "         [0.1400],\n",
              "         [0.1600],\n",
              "         [0.1800]]),\n",
              " tensor([[0.3000],\n",
              "         [0.3140],\n",
              "         [0.3280],\n",
              "         [0.3420],\n",
              "         [0.3560],\n",
              "         [0.3700],\n",
              "         [0.3840],\n",
              "         [0.3980],\n",
              "         [0.4120],\n",
              "         [0.4260]]))"
            ]
          },
          "metadata": {},
          "execution_count": 2
        }
      ]
    },
    {
      "cell_type": "code",
      "source": [
        "len(X), len(y)"
      ],
      "metadata": {
        "colab": {
          "base_uri": "https://localhost:8080/"
        },
        "id": "v1ftAypuiBlO",
        "outputId": "ed483146-80d2-44d4-d1cc-aca9f6e98d29"
      },
      "execution_count": null,
      "outputs": [
        {
          "output_type": "execute_result",
          "data": {
            "text/plain": [
              "(50, 50)"
            ]
          },
          "metadata": {},
          "execution_count": 3
        }
      ]
    },
    {
      "cell_type": "markdown",
      "source": [
        "##Splitting data into training and testing sets"
      ],
      "metadata": {
        "id": "I3efIlp3lR9L"
      }
    },
    {
      "cell_type": "code",
      "source": [
        "train_split = int(0.8 * len(X))\n",
        "X_train, y_train = X[:train_split], y[:train_split]\n",
        "X_test, y_test = X[train_split:],y[train_split:]\n",
        "\n",
        "len(X_train), len(y_train), len(X_test), len(y_test)"
      ],
      "metadata": {
        "colab": {
          "base_uri": "https://localhost:8080/"
        },
        "id": "jJnXSBngiBig",
        "outputId": "bb973d45-8750-4a34-efd9-09cb4546bb4f"
      },
      "execution_count": null,
      "outputs": [
        {
          "output_type": "execute_result",
          "data": {
            "text/plain": [
              "(40, 40, 10, 10)"
            ]
          },
          "metadata": {},
          "execution_count": 4
        }
      ]
    },
    {
      "cell_type": "code",
      "source": [
        "X_train, y_train"
      ],
      "metadata": {
        "colab": {
          "base_uri": "https://localhost:8080/"
        },
        "collapsed": true,
        "id": "Wz9nIYlMiBfz",
        "outputId": "d2aa993b-8be9-4f76-e7eb-48dfc8c41f9f"
      },
      "execution_count": null,
      "outputs": [
        {
          "output_type": "execute_result",
          "data": {
            "text/plain": [
              "(tensor([[0.0000],\n",
              "         [0.0200],\n",
              "         [0.0400],\n",
              "         [0.0600],\n",
              "         [0.0800],\n",
              "         [0.1000],\n",
              "         [0.1200],\n",
              "         [0.1400],\n",
              "         [0.1600],\n",
              "         [0.1800],\n",
              "         [0.2000],\n",
              "         [0.2200],\n",
              "         [0.2400],\n",
              "         [0.2600],\n",
              "         [0.2800],\n",
              "         [0.3000],\n",
              "         [0.3200],\n",
              "         [0.3400],\n",
              "         [0.3600],\n",
              "         [0.3800],\n",
              "         [0.4000],\n",
              "         [0.4200],\n",
              "         [0.4400],\n",
              "         [0.4600],\n",
              "         [0.4800],\n",
              "         [0.5000],\n",
              "         [0.5200],\n",
              "         [0.5400],\n",
              "         [0.5600],\n",
              "         [0.5800],\n",
              "         [0.6000],\n",
              "         [0.6200],\n",
              "         [0.6400],\n",
              "         [0.6600],\n",
              "         [0.6800],\n",
              "         [0.7000],\n",
              "         [0.7200],\n",
              "         [0.7400],\n",
              "         [0.7600],\n",
              "         [0.7800]]),\n",
              " tensor([[0.3000],\n",
              "         [0.3140],\n",
              "         [0.3280],\n",
              "         [0.3420],\n",
              "         [0.3560],\n",
              "         [0.3700],\n",
              "         [0.3840],\n",
              "         [0.3980],\n",
              "         [0.4120],\n",
              "         [0.4260],\n",
              "         [0.4400],\n",
              "         [0.4540],\n",
              "         [0.4680],\n",
              "         [0.4820],\n",
              "         [0.4960],\n",
              "         [0.5100],\n",
              "         [0.5240],\n",
              "         [0.5380],\n",
              "         [0.5520],\n",
              "         [0.5660],\n",
              "         [0.5800],\n",
              "         [0.5940],\n",
              "         [0.6080],\n",
              "         [0.6220],\n",
              "         [0.6360],\n",
              "         [0.6500],\n",
              "         [0.6640],\n",
              "         [0.6780],\n",
              "         [0.6920],\n",
              "         [0.7060],\n",
              "         [0.7200],\n",
              "         [0.7340],\n",
              "         [0.7480],\n",
              "         [0.7620],\n",
              "         [0.7760],\n",
              "         [0.7900],\n",
              "         [0.8040],\n",
              "         [0.8180],\n",
              "         [0.8320],\n",
              "         [0.8460]]))"
            ]
          },
          "metadata": {},
          "execution_count": 5
        }
      ]
    },
    {
      "cell_type": "markdown",
      "source": [
        "##To visualize data - matplotlib"
      ],
      "metadata": {
        "id": "HMNigLzZoq6c"
      }
    },
    {
      "cell_type": "code",
      "source": [
        "def plot_predictions(train_data=X_train,\n",
        "                     train_labels = y_train,\n",
        "                     test_data = X_test,\n",
        "                     test_labels = y_test,\n",
        "                     predictions = None):\n",
        "\n",
        "\n",
        "  plt.figure(figsize = (10,7))\n",
        "  #plot training data in blue\n",
        "  plt.scatter(train_data, train_labels,c=\"b\",s=4,label=\"training data\")\n",
        "\n",
        "  #plot test data in green\n",
        "  plt.scatter(test_data,test_labels,c=\"g\",s=4,label=\"test data\")\n",
        "\n",
        "  if predictions is not None:\n",
        "    #plot predictions in red (predictions in test data)\n",
        "    plt.scatter(test_data,predictions,c=\"r\",s=4,label=\"Predictions\")\n",
        "\n",
        "  plt.legend(prop={\"size\":14})\n"
      ],
      "metadata": {
        "id": "5MF-4clTiBah"
      },
      "execution_count": null,
      "outputs": []
    },
    {
      "cell_type": "code",
      "source": [
        "plot_predictions();"
      ],
      "metadata": {
        "colab": {
          "base_uri": "https://localhost:8080/",
          "height": 460
        },
        "id": "sTvDWVkniBXv",
        "outputId": "f97365a9-1e35-47a6-89f5-c9d342205001"
      },
      "execution_count": null,
      "outputs": [
        {
          "output_type": "display_data",
          "data": {
            "text/plain": [
              "<Figure size 1000x700 with 1 Axes>"
            ],
            "image/png": "[encoded data removed]"
          },
          "metadata": {}
        }
      ]
    },
    {
      "cell_type": "markdown",
      "source": [
        "##Building Model"
      ],
      "metadata": {
        "id": "NSLdn0szr_GF"
      }
    },
    {
      "cell_type": "code",
      "source": [
        "# Create linear regressor model class\n",
        "class linear_regressor(nn.Module):\n",
        "   # -> almost Everything in pytorch inherit from nn.Module\n",
        "  def __init__(self):\n",
        "    super().__init__()\n",
        "    self.weight = nn.Parameter(torch.randn(1,  # <- start with random weights\n",
        "                                           requires_grad = True,  # <- can we update this value with gradient descent?)\n",
        "                                           dtype=torch.float)) # <- PyTorch loves float32 by default\n",
        "    self.bias = nn.Parameter(torch.randn(1,\n",
        "                                         requires_grad=True,\n",
        "                                         dtype=torch.float))\n",
        "\n",
        "# forward method to define the computation model\n",
        "  def forward(self,x:torch.Tensor) -> torch.Tensor: # <- \"x\" is the input data (e.g. training/testing features)\n",
        "    return self.weight * x + self.bias # <- this is the linear regression formula (y = m*x + b)"
      ],
      "metadata": {
        "id": "YUQIVPC_iBUq"
      },
      "execution_count": null,
      "outputs": []
    },
    {
      "cell_type": "markdown",
      "source": [
        "####what this model does:\n",
        "\n",
        "* start with the random values(weight, bias)\n",
        "\n",
        "* look at the training data and adjusts the random values to better represents (or get closer to) the ideal values (the weight and bias values we used to create the data)\n",
        "\n",
        "\n",
        "\n",
        "How does it do so:\n",
        "1. Gradient descent\n",
        "2. backpropagation"
      ],
      "metadata": {
        "id": "de_FolHmvCTd"
      }
    },
    {
      "cell_type": "markdown",
      "source": [
        "#### Pytorch builiding block essentials\n",
        "\n",
        "* torch.nn - contains all of the buildings for computational graphs (a neural network can be considered a computational graph)\n",
        "\n",
        "* torch.nn.Parameter - what parameters should our model try and learn, often pytorch layer from torch.nn will set these for us.\n",
        "\n",
        "* torch.nn.Module - The base class for all neural network modules, if you subclass it, you should overwrite\n",
        "forward() (Requires a forward() method be implemented.)\n",
        "\n",
        "* torch.optium - Contains various optimization algorithms, they will also help in gradient descent\n",
        "\n",
        "* def forward() - all nn.Module subclass require you to overwrite forward(), this method defines what happens in the forward computation.\n"
      ],
      "metadata": {
        "id": "kUzRYj0FK-fs"
      }
    },
    {
      "cell_type": "code",
      "source": [
        "### Checking the contents of our pyTorch models\n",
        "torch.manual_seed(42)\n",
        "model_0 = linear_regressor()\n",
        "list(model_0.parameters())"
      ],
      "metadata": {
        "colab": {
          "base_uri": "https://localhost:8080/"
        },
        "id": "Tr5eEkUAiBSI",
        "outputId": "1d078328-5810-4dce-f3da-ea68119ba718"
      },
      "execution_count": null,
      "outputs": [
        {
          "output_type": "execute_result",
          "data": {
            "text/plain": [
              "[Parameter containing:\n",
              " tensor([0.3367], requires_grad=True),\n",
              " Parameter containing:\n",
              " tensor([0.1288], requires_grad=True)]"
            ]
          },
          "metadata": {},
          "execution_count": 9
        }
      ]
    },
    {
      "cell_type": "code",
      "source": [
        "model_0.state_dict()"
      ],
      "metadata": {
        "colab": {
          "base_uri": "https://localhost:8080/"
        },
        "id": "RBfgejo4iBPT",
        "outputId": "92057062-ba0b-45c3-aeeb-ddeaca62d93d"
      },
      "execution_count": null,
      "outputs": [
        {
          "output_type": "execute_result",
          "data": {
            "text/plain": [
              "OrderedDict([('weight', tensor([0.3367])), ('bias', tensor([0.1288]))])"
            ]
          },
          "metadata": {},
          "execution_count": 10
        }
      ]
    },
    {
      "cell_type": "code",
      "source": [
        "## making predictions using 'torch.inference_mode()'"
      ],
      "metadata": {
        "id": "bMY43HaJiBMM"
      },
      "execution_count": null,
      "outputs": []
    },
    {
      "cell_type": "code",
      "source": [
        "X_test, y_test"
      ],
      "metadata": {
        "colab": {
          "base_uri": "https://localhost:8080/"
        },
        "id": "dEsddJnJiBJv",
        "outputId": "ffb630ad-9ea5-4659-9aad-10d9a37c5f9b"
      },
      "execution_count": null,
      "outputs": [
        {
          "output_type": "execute_result",
          "data": {
            "text/plain": [
              "(tensor([[0.8000],\n",
              "         [0.8200],\n",
              "         [0.8400],\n",
              "         [0.8600],\n",
              "         [0.8800],\n",
              "         [0.9000],\n",
              "         [0.9200],\n",
              "         [0.9400],\n",
              "         [0.9600],\n",
              "         [0.9800]]),\n",
              " tensor([[0.8600],\n",
              "         [0.8740],\n",
              "         [0.8880],\n",
              "         [0.9020],\n",
              "         [0.9160],\n",
              "         [0.9300],\n",
              "         [0.9440],\n",
              "         [0.9580],\n",
              "         [0.9720],\n",
              "         [0.9860]]))"
            ]
          },
          "metadata": {},
          "execution_count": 12
        }
      ]
    },
    {
      "cell_type": "code",
      "source": [
        "# torch.inference_mode(): is to make the predictions.\n",
        "with torch.inference_mode():\n",
        "  y_preds = model_0(X_test)\n",
        "\n",
        "y_preds\n",
        "\n",
        "\n",
        "# Note: in older PyTorch code you might also see torch.no_grad() but inference_mode() is to be preferred\n",
        "# with torch.no_grad():\n",
        "#   y_preds = model_0(X_test)"
      ],
      "metadata": {
        "colab": {
          "base_uri": "https://localhost:8080/"
        },
        "id": "QNmUoUAeiBG6",
        "outputId": "1dcacd52-021f-4948-d57f-89d52f6c2e16"
      },
      "execution_count": null,
      "outputs": [
        {
          "output_type": "execute_result",
          "data": {
            "text/plain": [
              "tensor([[0.3982],\n",
              "        [0.4049],\n",
              "        [0.4116],\n",
              "        [0.4184],\n",
              "        [0.4251],\n",
              "        [0.4318],\n",
              "        [0.4386],\n",
              "        [0.4453],\n",
              "        [0.4520],\n",
              "        [0.4588]])"
            ]
          },
          "metadata": {},
          "execution_count": 13
        }
      ]
    },
    {
      "cell_type": "code",
      "source": [
        "plot_predictions(predictions = y_preds)"
      ],
      "metadata": {
        "colab": {
          "base_uri": "https://localhost:8080/",
          "height": 460
        },
        "id": "Ddv5TfQNiBEO",
        "outputId": "c3fcc76d-1c37-4915-e8d3-24309230ab0d"
      },
      "execution_count": null,
      "outputs": [
        {
          "output_type": "display_data",
          "data": {
            "text/plain": [
              "<Figure size 1000x700 with 1 Axes>"
            ],
            "image/png": "[encoded data removed]"
          },
          "metadata": {}
        }
      ]
    },
    {
      "cell_type": "markdown",
      "source": [
        "####Train model\n",
        "\n",
        "* The whole idea of training is for a model to move from some unknown parameters(these may be random) to some *known* parameters.\n",
        "\n",
        "[or in other words from a poor representation of the data to a better representation of the data]\n",
        "\n",
        "* One way to measure how poor or how wrong your model is predicting is by calulating the loss function(lower is the better).\n",
        "\n",
        "* **Optimisers**: take into acoount the loss of a model and adjust the models parameters accordingly to improve the loss function.\n",
        "\n",
        "[Tells your model how to update its internal parameters to best lower the loss.]\n",
        "\n",
        "And specifically for pyTorch we need:\n",
        "* A training loop\n",
        "* A testing loop\n"
      ],
      "metadata": {
        "id": "aAu8MNdirAhb"
      }
    },
    {
      "cell_type": "code",
      "source": [
        "list(model_0.parameters())"
      ],
      "metadata": {
        "colab": {
          "base_uri": "https://localhost:8080/"
        },
        "id": "tlRMfl_RiBB7",
        "outputId": "fe63aec6-df14-4831-e593-61950bf0e528"
      },
      "execution_count": null,
      "outputs": [
        {
          "output_type": "execute_result",
          "data": {
            "text/plain": [
              "[Parameter containing:\n",
              " tensor([0.3367], requires_grad=True),\n",
              " Parameter containing:\n",
              " tensor([0.1288], requires_grad=True)]"
            ]
          },
          "metadata": {},
          "execution_count": 15
        }
      ]
    },
    {
      "cell_type": "code",
      "source": [
        "# Check the predictions\n",
        "print(f\"Number of testing samples: {len(X_test)}\")\n",
        "print(f\"Number of predictions made: {len(y_preds)}\")\n",
        "print(f\"Predicted values:\\n{y_preds}\")"
      ],
      "metadata": {
        "colab": {
          "base_uri": "https://localhost:8080/"
        },
        "id": "DY-BBp8eiA_L",
        "outputId": "92bcd70f-0945-4b67-9f23-d89a31d85b4c"
      },
      "execution_count": null,
      "outputs": [
        {
          "output_type": "stream",
          "name": "stdout",
          "text": [
            "Number of testing samples: 10\n",
            "Number of predictions made: 10\n",
            "Predicted values:\n",
            "tensor([[0.3982],\n",
            "        [0.4049],\n",
            "        [0.4116],\n",
            "        [0.4184],\n",
            "        [0.4251],\n",
            "        [0.4318],\n",
            "        [0.4386],\n",
            "        [0.4453],\n",
            "        [0.4520],\n",
            "        [0.4588]])\n"
          ]
        }
      ]
    },
    {
      "cell_type": "markdown",
      "source": [
        "##Train model\n",
        "Right now our model is making predictions using random parameters to make calculations, it's basically guessing (randomly)."
      ],
      "metadata": {
        "id": "zZhO3AgKuN_p"
      }
    },
    {
      "cell_type": "markdown",
      "source": [
        "* params = the model parameters you'd like to optimize\n",
        "\n",
        "* lr (learning rate) = the learning rate is a hyperparameter that defines how big/ small the optimiser changes the parameters with each step (a **small lr** results in a small changes, **a large lr** means a large changes)"
      ],
      "metadata": {
        "id": "ckwhvtgm6Cw7"
      }
    },
    {
      "cell_type": "code",
      "source": [
        "# Setup a loss function\n",
        "loss_fn = nn.L1Loss()\n",
        "\n",
        "# SetUp an optimiser\n",
        "optimizer = torch.optim.SGD(params = model_0.parameters(),\n",
        "                            lr = 0.001)  # learning rate (how much the optimizer should change parameters at each step, higher=more (less stable), lower=less (might take a long time))"
      ],
      "metadata": {
        "id": "2T1v0-EGiA8g"
      },
      "execution_count": null,
      "outputs": []
    },
    {
      "cell_type": "markdown",
      "source": [
        "#### Building a training and a testing loop\n",
        "\n",
        "A couple of things we need in a training loop:\n",
        "0. loop through the data.\n",
        "\n",
        "1. forward pass (this involves data moving through the model's 'forward()' function) to make predictions on data - called forward propagation.\n",
        "ie. input * weight + bias\n",
        "\n",
        "2. calculate the loss(compare forward pass predictions to actual value).\n",
        "\n",
        "3. loss backward (backpropagation) - move backword through the network to calculate the gradients of each of the parameters of our model with respect to the loss.\n",
        "\n",
        "4. optimizer step - use the optimiser to adjust out model's parameters to try and improve the loss(gradient descent)."
      ],
      "metadata": {
        "id": "HsIoAARp7Hl3"
      }
    },
    {
      "cell_type": "code",
      "source": [
        "# Epoch : one complete cycle/loop through the data...(hyperparameters coz we have to set this)"
      ],
      "metadata": {
        "id": "kbet-2Y-iA5Z"
      },
      "execution_count": null,
      "outputs": []
    },
    {
      "cell_type": "code",
      "source": [
        "torch.manual_seed(42)\n",
        "epochs = 1500\n",
        "\n",
        "\n",
        "## Track different values:\n",
        "epoch_count = []\n",
        "loss_values = []\n",
        "test_loss_values = []\n",
        "\n",
        "\n",
        "# Training\n",
        "# 0. loop through the data\n",
        "for epoch in range(epochs):\n",
        "  # set the model to training mode\n",
        "  model_0.train() # train mode in pytorch sets all parameters that require gradients.\n",
        "\n",
        "  # 1. forward pass:\n",
        "  y_pred = model_0(X_train)\n",
        "\n",
        "  # 2. calculate the loss\n",
        "  loss = loss_fn(y_pred,y_train)\n",
        "  # print(f\"Loss: {loss}\")\n",
        "\n",
        "  # 3. optimizer zero grad\n",
        "  optimizer.zero_grad() #The optimizers gradients are set to zero (they are accumulated by default) so they can be recalculated for the specific training step.\n",
        "\n",
        "  # 4. perform backpropagation on the loss with respect to the parameters of the model\n",
        "  loss.backward()\n",
        "\n",
        "  # 5. step the optimizer (perform gradient descent) or Progress the optimizer\n",
        "  optimizer.step() # by default how the optimizer changes will accumulate through the loop so... we have to zero them above step 3\n",
        "\n",
        "  model_0.eval() # (turn off different settings in the model not needed for evaluation/testing)\n",
        "\n",
        "  with torch.inference_mode(): #turns off gradient tracking\n",
        "    # 1. do the forward pass in testing mode\n",
        "    test_pred = model_0(X_test)\n",
        "\n",
        "    # 2. calculate the loss\n",
        "    test_loss = loss_fn(test_pred,y_test)\n",
        "\n",
        "\n",
        "  if epoch % 10 == 0:\n",
        "    epoch_count.append(epoch)\n",
        "    loss_values.append(loss)\n",
        "    test_loss_values.append(test_loss)\n",
        "    print(f\"Epoch: {epoch} | Loss: {loss} | Test Loss: {test_loss}\")\n"
      ],
      "metadata": {
        "colab": {
          "base_uri": "https://localhost:8080/"
        },
        "collapsed": true,
        "id": "1uzmlI9HiA2_",
        "outputId": "dc12995b-9d37-482e-c521-3dfee38a05ce"
      },
      "execution_count": null,
      "outputs": [
        {
          "output_type": "stream",
          "name": "stdout",
          "text": [
            "Epoch: 0 | Loss: 0.31288138031959534 | Test Loss: 0.4931890368461609\n",
            "Epoch: 10 | Loss: 0.3013603389263153 | Test Loss: 0.4797181189060211\n",
            "Epoch: 20 | Loss: 0.28983938694000244 | Test Loss: 0.4662471413612366\n",
            "Epoch: 30 | Loss: 0.2783183455467224 | Test Loss: 0.4527761936187744\n",
            "Epoch: 40 | Loss: 0.26679736375808716 | Test Loss: 0.43930521607398987\n",
            "Epoch: 50 | Loss: 0.2552763819694519 | Test Loss: 0.4258342385292053\n",
            "Epoch: 60 | Loss: 0.24375538527965546 | Test Loss: 0.41236335039138794\n",
            "Epoch: 70 | Loss: 0.232234388589859 | Test Loss: 0.398892343044281\n",
            "Epoch: 80 | Loss: 0.22071340680122375 | Test Loss: 0.38542139530181885\n",
            "Epoch: 90 | Loss: 0.2091923952102661 | Test Loss: 0.3719504475593567\n",
            "Epoch: 100 | Loss: 0.19767141342163086 | Test Loss: 0.35847947001457214\n",
            "Epoch: 110 | Loss: 0.18615040183067322 | Test Loss: 0.34500852227211\n",
            "Epoch: 120 | Loss: 0.17462942004203796 | Test Loss: 0.33153754472732544\n",
            "Epoch: 130 | Loss: 0.16310855746269226 | Test Loss: 0.3180667459964752\n",
            "Epoch: 140 | Loss: 0.15158770978450775 | Test Loss: 0.304595947265625\n",
            "Epoch: 150 | Loss: 0.14006686210632324 | Test Loss: 0.2911251187324524\n",
            "Epoch: 160 | Loss: 0.12854602932929993 | Test Loss: 0.2776543200016022\n",
            "Epoch: 170 | Loss: 0.11702518165111542 | Test Loss: 0.26418352127075195\n",
            "Epoch: 180 | Loss: 0.10654274374246597 | Test Loss: 0.251315176486969\n",
            "Epoch: 190 | Loss: 0.09747617691755295 | Test Loss: 0.2392154484987259\n",
            "Epoch: 200 | Loss: 0.08973254263401031 | Test Loss: 0.22795839607715607\n",
            "Epoch: 210 | Loss: 0.08306284993886948 | Test Loss: 0.21740305423736572\n",
            "Epoch: 220 | Loss: 0.07729282230138779 | Test Loss: 0.20750825107097626\n",
            "Epoch: 230 | Loss: 0.07242877781391144 | Test Loss: 0.19840054214000702\n",
            "Epoch: 240 | Loss: 0.06828799843788147 | Test Loss: 0.18992407619953156\n",
            "Epoch: 250 | Loss: 0.06476505100727081 | Test Loss: 0.18208928406238556\n",
            "Epoch: 260 | Loss: 0.06174134090542793 | Test Loss: 0.17478716373443604\n",
            "Epoch: 270 | Loss: 0.05915876477956772 | Test Loss: 0.16802480816841125\n",
            "Epoch: 280 | Loss: 0.0569603331387043 | Test Loss: 0.161748006939888\n",
            "Epoch: 290 | Loss: 0.05514555424451828 | Test Loss: 0.15608695149421692\n",
            "Epoch: 300 | Loss: 0.05357731133699417 | Test Loss: 0.15086300671100616\n",
            "Epoch: 310 | Loss: 0.05218071490526199 | Test Loss: 0.14595307409763336\n",
            "Epoch: 320 | Loss: 0.05105169489979744 | Test Loss: 0.1415499746799469\n",
            "Epoch: 330 | Loss: 0.050030313432216644 | Test Loss: 0.1374681293964386\n",
            "Epoch: 340 | Loss: 0.049160152673721313 | Test Loss: 0.13370750844478607\n",
            "Epoch: 350 | Loss: 0.04836020991206169 | Test Loss: 0.13020753860473633\n",
            "Epoch: 360 | Loss: 0.04769856110215187 | Test Loss: 0.12709848582744598\n",
            "Epoch: 370 | Loss: 0.04703690856695175 | Test Loss: 0.12398938834667206\n",
            "Epoch: 380 | Loss: 0.04650093987584114 | Test Loss: 0.12147434055805206\n",
            "Epoch: 390 | Loss: 0.045996345579624176 | Test Loss: 0.11902527511119843\n",
            "Epoch: 400 | Loss: 0.04549176245927811 | Test Loss: 0.11657620966434479\n",
            "Epoch: 410 | Loss: 0.045014552772045135 | Test Loss: 0.11432783305644989\n",
            "Epoch: 420 | Loss: 0.04461454600095749 | Test Loss: 0.11254779994487762\n",
            "Epoch: 430 | Loss: 0.04421453922986984 | Test Loss: 0.11076776683330536\n",
            "Epoch: 440 | Loss: 0.043814532458782196 | Test Loss: 0.1089877337217331\n",
            "Epoch: 450 | Loss: 0.04341452196240425 | Test Loss: 0.10720770061016083\n",
            "Epoch: 460 | Loss: 0.043014515191316605 | Test Loss: 0.10542766749858856\n",
            "Epoch: 470 | Loss: 0.04265119880437851 | Test Loss: 0.10419009625911713\n",
            "Epoch: 480 | Loss: 0.04230218380689621 | Test Loss: 0.1030881255865097\n",
            "Epoch: 490 | Loss: 0.04195316880941391 | Test Loss: 0.10198615491390228\n",
            "Epoch: 500 | Loss: 0.04160415381193161 | Test Loss: 0.10088418424129486\n",
            "Epoch: 510 | Loss: 0.04125513881444931 | Test Loss: 0.09978221356868744\n",
            "Epoch: 520 | Loss: 0.04090612381696701 | Test Loss: 0.09868024289608002\n",
            "Epoch: 530 | Loss: 0.04055710881948471 | Test Loss: 0.0975782722234726\n",
            "Epoch: 540 | Loss: 0.04020809382200241 | Test Loss: 0.09647630155086517\n",
            "Epoch: 550 | Loss: 0.03985908254981041 | Test Loss: 0.09537436813116074\n",
            "Epoch: 560 | Loss: 0.03951007127761841 | Test Loss: 0.09427239745855331\n",
            "Epoch: 570 | Loss: 0.03916105255484581 | Test Loss: 0.09317042678594589\n",
            "Epoch: 580 | Loss: 0.03881204128265381 | Test Loss: 0.09206845611333847\n",
            "Epoch: 590 | Loss: 0.03846302255988121 | Test Loss: 0.09096648544073105\n",
            "Epoch: 600 | Loss: 0.03811401128768921 | Test Loss: 0.08986451476812363\n",
            "Epoch: 610 | Loss: 0.03776499256491661 | Test Loss: 0.0887625440955162\n",
            "Epoch: 620 | Loss: 0.03741598129272461 | Test Loss: 0.08766057342290878\n",
            "Epoch: 630 | Loss: 0.037067197263240814 | Test Loss: 0.08662726730108261\n",
            "Epoch: 640 | Loss: 0.03672432154417038 | Test Loss: 0.08579986542463303\n",
            "Epoch: 650 | Loss: 0.03638043254613876 | Test Loss: 0.08497253060340881\n",
            "Epoch: 660 | Loss: 0.036036938428878784 | Test Loss: 0.08421380817890167\n",
            "Epoch: 670 | Loss: 0.035693906247615814 | Test Loss: 0.08338643610477448\n",
            "Epoch: 680 | Loss: 0.035350002348423004 | Test Loss: 0.08255907148122787\n",
            "Epoch: 690 | Loss: 0.035006679594516754 | Test Loss: 0.08180035650730133\n",
            "Epoch: 700 | Loss: 0.03466346859931946 | Test Loss: 0.08097299933433533\n",
            "Epoch: 710 | Loss: 0.03431956097483635 | Test Loss: 0.08014564216136932\n",
            "Epoch: 720 | Loss: 0.03397642448544502 | Test Loss: 0.07938691228628159\n",
            "Epoch: 730 | Loss: 0.0336330309510231 | Test Loss: 0.07855955511331558\n",
            "Epoch: 740 | Loss: 0.03328912332653999 | Test Loss: 0.07773219794034958\n",
            "Epoch: 750 | Loss: 0.032946161925792694 | Test Loss: 0.07697348296642303\n",
            "Epoch: 760 | Loss: 0.03260258957743645 | Test Loss: 0.07614611089229584\n",
            "Epoch: 770 | Loss: 0.0322587676346302 | Test Loss: 0.07538740336894989\n",
            "Epoch: 780 | Loss: 0.031915903091430664 | Test Loss: 0.07456003129482269\n",
            "Epoch: 790 | Loss: 0.031572166830301285 | Test Loss: 0.07373266667127609\n",
            "Epoch: 800 | Loss: 0.03122851625084877 | Test Loss: 0.07297395914793015\n",
            "Epoch: 810 | Loss: 0.03088562563061714 | Test Loss: 0.07214658707380295\n",
            "Epoch: 820 | Loss: 0.03054172359406948 | Test Loss: 0.07131922990083694\n",
            "Epoch: 830 | Loss: 0.030198251828551292 | Test Loss: 0.0705605149269104\n",
            "Epoch: 840 | Loss: 0.029855191707611084 | Test Loss: 0.0697331428527832\n",
            "Epoch: 850 | Loss: 0.029511287808418274 | Test Loss: 0.0689057856798172\n",
            "Epoch: 860 | Loss: 0.02916799485683441 | Test Loss: 0.06814707070589066\n",
            "Epoch: 870 | Loss: 0.028824755921959877 | Test Loss: 0.06731969118118286\n",
            "Epoch: 880 | Loss: 0.02848084643483162 | Test Loss: 0.06649234890937805\n",
            "Epoch: 890 | Loss: 0.02813773788511753 | Test Loss: 0.06573362648487091\n",
            "Epoch: 900 | Loss: 0.027794325724244118 | Test Loss: 0.06490625441074371\n",
            "Epoch: 910 | Loss: 0.02745041623711586 | Test Loss: 0.06407888978719711\n",
            "Epoch: 920 | Loss: 0.0271074827760458 | Test Loss: 0.06332017481327057\n",
            "Epoch: 930 | Loss: 0.026763886213302612 | Test Loss: 0.062492817640304565\n",
            "Epoch: 940 | Loss: 0.02642008289694786 | Test Loss: 0.06173409894108772\n",
            "Epoch: 950 | Loss: 0.02607722207903862 | Test Loss: 0.06090673804283142\n",
            "Epoch: 960 | Loss: 0.025733450427651405 | Test Loss: 0.06007937341928482\n",
            "Epoch: 970 | Loss: 0.02538982965052128 | Test Loss: 0.05932066589593887\n",
            "Epoch: 980 | Loss: 0.02504691109061241 | Test Loss: 0.058493297547101974\n",
            "Epoch: 990 | Loss: 0.0247030109167099 | Test Loss: 0.057665932923555374\n",
            "Epoch: 1000 | Loss: 0.02435956709086895 | Test Loss: 0.05690721794962883\n",
            "Epoch: 1010 | Loss: 0.024016480892896652 | Test Loss: 0.05607985332608223\n",
            "Epoch: 1020 | Loss: 0.02367258258163929 | Test Loss: 0.055252473801374435\n",
            "Epoch: 1030 | Loss: 0.023329313844442368 | Test Loss: 0.054493773728609085\n",
            "Epoch: 1040 | Loss: 0.022986043244600296 | Test Loss: 0.05366641283035278\n",
            "Epoch: 1050 | Loss: 0.022642139345407486 | Test Loss: 0.05283904820680618\n",
            "Epoch: 1060 | Loss: 0.02229905314743519 | Test Loss: 0.05208033323287964\n",
            "Epoch: 1070 | Loss: 0.02195560745894909 | Test Loss: 0.05125296115875244\n",
            "Epoch: 1080 | Loss: 0.021611705422401428 | Test Loss: 0.05042559653520584\n",
            "Epoch: 1090 | Loss: 0.021268798038363457 | Test Loss: 0.0496668815612793\n",
            "Epoch: 1100 | Loss: 0.02092517353594303 | Test Loss: 0.0488395169377327\n",
            "Epoch: 1110 | Loss: 0.020581401884555817 | Test Loss: 0.04808080196380615\n",
            "Epoch: 1120 | Loss: 0.020238537341356277 | Test Loss: 0.047253452241420746\n",
            "Epoch: 1130 | Loss: 0.019894743338227272 | Test Loss: 0.04642607644200325\n",
            "Epoch: 1140 | Loss: 0.019551146775484085 | Test Loss: 0.0456673689186573\n",
            "Epoch: 1150 | Loss: 0.019208211451768875 | Test Loss: 0.04483998939394951\n",
            "Epoch: 1160 | Loss: 0.018864300101995468 | Test Loss: 0.044012635946273804\n",
            "Epoch: 1170 | Loss: 0.018520886078476906 | Test Loss: 0.04325391724705696\n",
            "Epoch: 1180 | Loss: 0.01817776821553707 | Test Loss: 0.04242655634880066\n",
            "Epoch: 1190 | Loss: 0.01783386431634426 | Test Loss: 0.04159919545054436\n",
            "Epoch: 1200 | Loss: 0.017490629106760025 | Test Loss: 0.04084048420190811\n",
            "Epoch: 1210 | Loss: 0.017147328704595566 | Test Loss: 0.040013112127780914\n",
            "Epoch: 1220 | Loss: 0.016803432255983353 | Test Loss: 0.03918575122952461\n",
            "Epoch: 1230 | Loss: 0.016460370272397995 | Test Loss: 0.03842703625559807\n",
            "Epoch: 1240 | Loss: 0.016116898506879807 | Test Loss: 0.03759966418147087\n",
            "Epoch: 1250 | Loss: 0.015772998332977295 | Test Loss: 0.036772288382053375\n",
            "Epoch: 1260 | Loss: 0.01543011236935854 | Test Loss: 0.03601359575986862\n",
            "Epoch: 1270 | Loss: 0.015086461789906025 | Test Loss: 0.03518623113632202\n",
            "Epoch: 1280 | Loss: 0.014742719009518623 | Test Loss: 0.03442750498652458\n",
            "Epoch: 1290 | Loss: 0.014399850741028786 | Test Loss: 0.03360014408826828\n",
            "Epoch: 1300 | Loss: 0.014056024141609669 | Test Loss: 0.03277278691530228\n",
            "Epoch: 1310 | Loss: 0.013712462969124317 | Test Loss: 0.03201407939195633\n",
            "Epoch: 1320 | Loss: 0.013369491323828697 | Test Loss: 0.031186699867248535\n",
            "Epoch: 1330 | Loss: 0.01302559394389391 | Test Loss: 0.030359338968992233\n",
            "Epoch: 1340 | Loss: 0.012682202272117138 | Test Loss: 0.029600614681839943\n",
            "Epoch: 1350 | Loss: 0.012339059263467789 | Test Loss: 0.028773266822099686\n",
            "Epoch: 1360 | Loss: 0.011995160952210426 | Test Loss: 0.02794589474797249\n",
            "Epoch: 1370 | Loss: 0.011651946231722832 | Test Loss: 0.02718718722462654\n",
            "Epoch: 1380 | Loss: 0.011308628134429455 | Test Loss: 0.026359815150499344\n",
            "Epoch: 1390 | Loss: 0.010964717715978622 | Test Loss: 0.025532448664307594\n",
            "Epoch: 1400 | Loss: 0.010621682740747929 | Test Loss: 0.0247737355530262\n",
            "Epoch: 1410 | Loss: 0.010278185829520226 | Test Loss: 0.023946374654769897\n",
            "Epoch: 1420 | Loss: 0.009934291243553162 | Test Loss: 0.023187648504972458\n",
            "Epoch: 1430 | Loss: 0.009591431356966496 | Test Loss: 0.0223603006452322\n",
            "Epoch: 1440 | Loss: 0.00924774818122387 | Test Loss: 0.021532922983169556\n",
            "Epoch: 1450 | Loss: 0.008904037065804005 | Test Loss: 0.020774226635694504\n",
            "Epoch: 1460 | Loss: 0.008561169728636742 | Test Loss: 0.019946854561567307\n",
            "Epoch: 1470 | Loss: 0.008217317052185535 | Test Loss: 0.01911948248744011\n",
            "Epoch: 1480 | Loss: 0.007873778231441975 | Test Loss: 0.018360769376158714\n",
            "Epoch: 1490 | Loss: 0.0075307851657271385 | Test Loss: 0.01753341034054756\n"
          ]
        }
      ]
    },
    {
      "cell_type": "code",
      "source": [
        "with torch.inference_mode():\n",
        "  y_pred_new = model_0(X_test)"
      ],
      "metadata": {
        "id": "CIVcuYcRl94S"
      },
      "execution_count": null,
      "outputs": []
    },
    {
      "cell_type": "code",
      "source": [],
      "metadata": {
        "id": "Ga8TumDUGAmF"
      },
      "execution_count": null,
      "outputs": []
    },
    {
      "cell_type": "code",
      "source": [
        "import numpy as np\n",
        "plt.plot(epoch_count, np.array(torch.tensor(loss_values).numpy()), label=\"Training Loss\")\n",
        "plt.plot(epoch_count, test_loss_values, label=\"Testing Loss\")\n",
        "plt.title(\"Training and Testing Loss\")\n",
        "plt.ylabel(\"Loss\")\n",
        "plt.xlabel(\"Epochs\")\n",
        "plt.legend();\n",
        "plt.show()\n"
      ],
      "metadata": {
        "colab": {
          "base_uri": "https://localhost:8080/",
          "height": 472
        },
        "collapsed": true,
        "id": "QVUqQ6eFsQle",
        "outputId": "0e3c246d-796a-4d92-b5a7-1a727f4192dd"
      },
      "execution_count": null,
      "outputs": [
        {
          "output_type": "display_data",
          "data": {
            "text/plain": [
              "<Figure size 640x480 with 1 Axes>"
            ],
            "image/png": "[encoded data removed]"
          },
          "metadata": {}
        }
      ]
    },
    {
      "cell_type": "code",
      "source": [
        "model_0.state_dict() # before training"
      ],
      "metadata": {
        "colab": {
          "base_uri": "https://localhost:8080/"
        },
        "id": "--TlCPB1iA0G",
        "outputId": "bbff02dc-7af2-4d1b-a6e8-2e286fcf3140"
      },
      "execution_count": null,
      "outputs": [
        {
          "output_type": "execute_result",
          "data": {
            "text/plain": [
              "OrderedDict([('weight', tensor([0.6642])), ('bias', tensor([0.3150]))])"
            ]
          },
          "metadata": {},
          "execution_count": 22
        }
      ]
    },
    {
      "cell_type": "code",
      "source": [
        "model_0.state_dict() # after training"
      ],
      "metadata": {
        "colab": {
          "base_uri": "https://localhost:8080/"
        },
        "id": "_W5z06nsiAxg",
        "outputId": "52359e23-dbca-40c7-bd8f-481ab8a53007"
      },
      "execution_count": null,
      "outputs": [
        {
          "output_type": "execute_result",
          "data": {
            "text/plain": [
              "OrderedDict([('weight', tensor([0.6642])), ('bias', tensor([0.3150]))])"
            ]
          },
          "metadata": {},
          "execution_count": 23
        }
      ]
    },
    {
      "cell_type": "code",
      "source": [
        "weight, bias"
      ],
      "metadata": {
        "colab": {
          "base_uri": "https://localhost:8080/"
        },
        "id": "3bhPvWBHsjWy",
        "outputId": "50a80f24-dc35-431a-db48-15d97075b6d1"
      },
      "execution_count": null,
      "outputs": [
        {
          "output_type": "execute_result",
          "data": {
            "text/plain": [
              "(0.7, 0.3)"
            ]
          },
          "metadata": {},
          "execution_count": 24
        }
      ]
    },
    {
      "cell_type": "code",
      "source": [
        "plot_predictions(predictions = y_preds)"
      ],
      "metadata": {
        "colab": {
          "base_uri": "https://localhost:8080/",
          "height": 460
        },
        "collapsed": true,
        "id": "rb4HxmppiAu5",
        "outputId": "8cdc2a76-771c-4bd1-9291-190f81bec144"
      },
      "execution_count": null,
      "outputs": [
        {
          "output_type": "display_data",
          "data": {
            "text/plain": [
              "<Figure size 1000x700 with 1 Axes>"
            ],
            "image/png": "[encoded data removed]"
          },
          "metadata": {}
        }
      ]
    },
    {
      "cell_type": "code",
      "source": [
        "plot_predictions(predictions = y_pred_new)"
      ],
      "metadata": {
        "colab": {
          "base_uri": "https://localhost:8080/",
          "height": 460
        },
        "collapsed": true,
        "id": "iPMZvmeZiAsJ",
        "outputId": "87592e6d-3d74-44f5-9186-e0b9cad4a344"
      },
      "execution_count": null,
      "outputs": [
        {
          "output_type": "display_data",
          "data": {
            "text/plain": [
              "<Figure size 1000x700 with 1 Axes>"
            ],
            "image/png": "[encoded data removed]"
          },
          "metadata": {}
        }
      ]
    },
    {
      "cell_type": "code",
      "source": [],
      "metadata": {
        "id": "P8yrEWNQiApt"
      },
      "execution_count": null,
      "outputs": []
    },
    {
      "cell_type": "markdown",
      "source": [
        "###Saving a model in pyTorch\n",
        "\n",
        "There are three main method you should use for saving and loading models in PyTorch\n",
        "\n",
        "1. 'torch.save()' = allow you to save a PyTorch object in python's pickle format\n",
        "\n",
        "2. 'torch.load()' = allow you load a saved PyTorch object\n",
        "\n",
        "3. 'torch.nn.Module.load_state_dict()' = this allow to load a model's saved state dictionary"
      ],
      "metadata": {
        "id": "Z3biThOWzhqc"
      }
    },
    {
      "cell_type": "code",
      "source": [
        "model_0.state_dict()"
      ],
      "metadata": {
        "colab": {
          "base_uri": "https://localhost:8080/"
        },
        "id": "qTAMof26iAm3",
        "outputId": "58ef26a4-a14f-4f12-df02-81b5ab85acd1"
      },
      "execution_count": null,
      "outputs": [
        {
          "output_type": "execute_result",
          "data": {
            "text/plain": [
              "OrderedDict([('weight', tensor([0.6642])), ('bias', tensor([0.3150]))])"
            ]
          },
          "metadata": {},
          "execution_count": 27
        }
      ]
    },
    {
      "cell_type": "code",
      "source": [
        "# Saving pyTorch model\n",
        "from pathlib import Path\n",
        "\n",
        "# Create model directory\n",
        "MODEL_PATH = Path(\"models\")\n",
        "MODEL_PATH.mkdir(parents=True, exist_ok=True)\n",
        "\n",
        "# Create model save path\n",
        "MODEL_NAME = \"01_pytorch_workflow_model.pth\"\n",
        "MODEL_SAVE_PATH = MODEL_PATH / MODEL_NAME\n",
        "\n",
        "# save the model\n",
        "print(f\"saving model to: {MODEL_SAVE_PATH}\")\n",
        "torch.save(obj=model_0.state_dict(),\n",
        "           f=MODEL_SAVE_PATH)"
      ],
      "metadata": {
        "colab": {
          "base_uri": "https://localhost:8080/"
        },
        "id": "RdXdgamWiAkD",
        "outputId": "d6732af9-b401-49bd-baaf-45f78924a77e"
      },
      "execution_count": null,
      "outputs": [
        {
          "output_type": "stream",
          "name": "stdout",
          "text": [
            "saving model to: models/01_pytorch_workflow_model.pth\n"
          ]
        }
      ]
    },
    {
      "cell_type": "markdown",
      "source": [
        "##Loading a PyTorch Model\n",
        "since we saved our model's state_dict() rather the entire model, we will create a new instance of our model class and load the saved state_dict() into that."
      ],
      "metadata": {
        "id": "EcWpe9HmLO-M"
      }
    },
    {
      "cell_type": "code",
      "source": [
        "loaded_model_0 = linear_regressor()\n",
        "loaded_model_0.load_state_dict(torch.load(f=MODEL_SAVE_PATH))"
      ],
      "metadata": {
        "colab": {
          "base_uri": "https://localhost:8080/"
        },
        "id": "0UBMV3NoiAe3",
        "outputId": "64fa8dae-2659-44d9-81c4-1eaca32f554c"
      },
      "execution_count": null,
      "outputs": [
        {
          "output_type": "stream",
          "name": "stderr",
          "text": [
            "<ipython-input-29-4e35194c14e0>:2: FutureWarning: You are using `torch.load` with `weights_only=False` (the current default value), which uses the default pickle module implicitly. It is possible to construct malicious pickle data which will execute arbitrary code during unpickling (See https://github.com/pytorch/pytorch/blob/main/SECURITY.md#untrusted-models for more details). In a future release, the default value for `weights_only` will be flipped to `True`. This limits the functions that could be executed during unpickling. Arbitrary objects will no longer be allowed to be loaded via this mode unless they are explicitly allowlisted by the user via `torch.serialization.add_safe_globals`. We recommend you start setting `weights_only=True` for any use case where you don't have full control of the loaded file. Please open an issue on GitHub for any issues related to this experimental feature.\n",
            "  loaded_model_0.load_state_dict(torch.load(f=MODEL_SAVE_PATH))\n"
          ]
        },
        {
          "output_type": "execute_result",
          "data": {
            "text/plain": [
              "<All keys matched successfully>"
            ]
          },
          "metadata": {},
          "execution_count": 29
        }
      ]
    },
    {
      "cell_type": "code",
      "source": [
        "loaded_model_0.state_dict()"
      ],
      "metadata": {
        "colab": {
          "base_uri": "https://localhost:8080/"
        },
        "id": "QPdSKKMHiAcQ",
        "outputId": "b259eab5-92fc-4fe8-bc99-243b85a012e6"
      },
      "execution_count": null,
      "outputs": [
        {
          "output_type": "execute_result",
          "data": {
            "text/plain": [
              "OrderedDict([('weight', tensor([0.6642])), ('bias', tensor([0.3150]))])"
            ]
          },
          "metadata": {},
          "execution_count": 30
        }
      ]
    },
    {
      "cell_type": "code",
      "source": [
        "# Make some prediction with our loaded Model\n",
        "loaded_model_0.eval()\n",
        "with torch.inference_mode():\n",
        "  loaded_model_preds = loaded_model_0(X_test)\n",
        "\n",
        "loaded_model_preds"
      ],
      "metadata": {
        "colab": {
          "base_uri": "https://localhost:8080/"
        },
        "id": "L5f0wkeqxA9u",
        "outputId": "fe84a221-9238-4ce9-8b4e-67ba3ecad12f"
      },
      "execution_count": null,
      "outputs": [
        {
          "output_type": "execute_result",
          "data": {
            "text/plain": [
              "tensor([[0.8464],\n",
              "        [0.8597],\n",
              "        [0.8730],\n",
              "        [0.8863],\n",
              "        [0.8995],\n",
              "        [0.9128],\n",
              "        [0.9261],\n",
              "        [0.9394],\n",
              "        [0.9527],\n",
              "        [0.9660]])"
            ]
          },
          "metadata": {},
          "execution_count": 31
        }
      ]
    },
    {
      "cell_type": "code",
      "source": [
        "model_0.eval()\n",
        "with torch.inference_mode():\n",
        "  y_preds = loaded_model_0(X_test)\n",
        "\n",
        "y_preds"
      ],
      "metadata": {
        "colab": {
          "base_uri": "https://localhost:8080/"
        },
        "id": "OSxfs09sxA6z",
        "outputId": "60a22628-553d-4e62-da9f-77118998abcb"
      },
      "execution_count": null,
      "outputs": [
        {
          "output_type": "execute_result",
          "data": {
            "text/plain": [
              "tensor([[0.8464],\n",
              "        [0.8597],\n",
              "        [0.8730],\n",
              "        [0.8863],\n",
              "        [0.8995],\n",
              "        [0.9128],\n",
              "        [0.9261],\n",
              "        [0.9394],\n",
              "        [0.9527],\n",
              "        [0.9660]])"
            ]
          },
          "metadata": {},
          "execution_count": 32
        }
      ]
    },
    {
      "cell_type": "code",
      "source": [
        "y_preds == loaded_model_preds"
      ],
      "metadata": {
        "colab": {
          "base_uri": "https://localhost:8080/"
        },
        "id": "PRvol8olxA4O",
        "outputId": "29ba380c-ca55-4a75-e34c-51c9b48d5dd2"
      },
      "execution_count": null,
      "outputs": [
        {
          "output_type": "execute_result",
          "data": {
            "text/plain": [
              "tensor([[True],\n",
              "        [True],\n",
              "        [True],\n",
              "        [True],\n",
              "        [True],\n",
              "        [True],\n",
              "        [True],\n",
              "        [True],\n",
              "        [True],\n",
              "        [True]])"
            ]
          },
          "metadata": {},
          "execution_count": 33
        }
      ]
    },
    {
      "cell_type": "code",
      "source": [],
      "metadata": {
        "id": "jExy7lJ-BUF_"
      },
      "execution_count": null,
      "outputs": []
    },
    {
      "cell_type": "code",
      "source": [],
      "metadata": {
        "id": "HVeDBlMFBUDY"
      },
      "execution_count": null,
      "outputs": []
    },
    {
      "cell_type": "code",
      "source": [],
      "metadata": {
        "id": "AEEW3a0jBUAx"
      },
      "execution_count": null,
      "outputs": []
    },
    {
      "cell_type": "markdown",
      "source": [
        "### 6. Putting it all together\n",
        "\n"
      ],
      "metadata": {
        "id": "8wYe4dF5OXHO"
      }
    },
    {
      "cell_type": "markdown",
      "source": [
        "###6.1 Data"
      ],
      "metadata": {
        "id": "b52QlMC7TyK4"
      }
    },
    {
      "cell_type": "code",
      "source": [
        "import torch\n",
        "from torch import nn\n",
        "import matplotlib.pyplot as plt\n",
        "import numpy as np\n",
        "\n",
        "torch.__version__\n"
      ],
      "metadata": {
        "colab": {
          "base_uri": "https://localhost:8080/",
          "height": 35
        },
        "id": "9WvIiYBqUAOF",
        "outputId": "5eb0dd5c-5f40-483c-b43f-c22a4ae947e3"
      },
      "execution_count": null,
      "outputs": [
        {
          "output_type": "execute_result",
          "data": {
            "text/plain": [
              "'2.5.1+cu121'"
            ],
            "application/vnd.google.colaboratory.intrinsic+json": {
              "type": "string"
            }
          },
          "metadata": {},
          "execution_count": 34
        }
      ]
    },
    {
      "cell_type": "markdown",
      "source": [
        "Create device agnostic code.\n",
        "\n",
        "This means if we have got access to a GPU, our code will use it (for potentially faster computing)\n",
        "\n",
        "if no GPU available , then code will default use CPU"
      ],
      "metadata": {
        "id": "-fnEfRVZUX7r"
      }
    },
    {
      "cell_type": "code",
      "source": [
        "# Setup device agnostic code\n",
        "device = \"cuda\" if torch.cuda.is_available() else \"cpu\"\n",
        "print(f\"Using device: {device}\")"
      ],
      "metadata": {
        "id": "CX4JTE57xA1j",
        "colab": {
          "base_uri": "https://localhost:8080/"
        },
        "outputId": "1cba418b-2db0-473e-f7e3-e9ae2c55d5c6"
      },
      "execution_count": null,
      "outputs": [
        {
          "output_type": "stream",
          "name": "stdout",
          "text": [
            "Using device: cpu\n"
          ]
        }
      ]
    },
    {
      "cell_type": "code",
      "source": [
        "## Create some data using the linear regression formula : y = weight * x + bias\n",
        "\n",
        "weight = 0.7\n",
        "bias = 0.3\n",
        "\n",
        "# Create range values\n",
        "start = 0\n",
        "end = 1\n",
        "step = 0.02\n",
        "\n",
        "#Create X and y (features and labels)\n",
        "X = torch.arange(start, end, step).unsqueeze(dim = 1) # without unsqueeze, errors will pop up\n",
        "y = weight * X + bias\n",
        "\n",
        "X[:10], y[:10]\n",
        "\n",
        "\n"
      ],
      "metadata": {
        "id": "ngQT-SJXxAzB",
        "colab": {
          "base_uri": "https://localhost:8080/"
        },
        "outputId": "7caf4ef9-a54a-4d49-dabd-ffa95352a285"
      },
      "execution_count": null,
      "outputs": [
        {
          "output_type": "execute_result",
          "data": {
            "text/plain": [
              "(tensor([[0.0000],\n",
              "         [0.0200],\n",
              "         [0.0400],\n",
              "         [0.0600],\n",
              "         [0.0800],\n",
              "         [0.1000],\n",
              "         [0.1200],\n",
              "         [0.1400],\n",
              "         [0.1600],\n",
              "         [0.1800]]),\n",
              " tensor([[0.3000],\n",
              "         [0.3140],\n",
              "         [0.3280],\n",
              "         [0.3420],\n",
              "         [0.3560],\n",
              "         [0.3700],\n",
              "         [0.3840],\n",
              "         [0.3980],\n",
              "         [0.4120],\n",
              "         [0.4260]]))"
            ]
          },
          "metadata": {},
          "execution_count": 37
        }
      ]
    },
    {
      "cell_type": "code",
      "source": [
        "# split data\n",
        "train_split = int(0.8 * len(X))\n",
        "X_train, y_train = X[:train_split], y[:train_split]\n",
        "X_test, y_test = X[train_split:], y[train_split:]\n",
        "\n",
        "len(X_train), len(y_train), len(X_test), len(y_test)"
      ],
      "metadata": {
        "id": "BfsrBi5KxAvx",
        "colab": {
          "base_uri": "https://localhost:8080/"
        },
        "outputId": "08ad178c-0779-4a8f-e801-0ce1635e2f1a"
      },
      "execution_count": null,
      "outputs": [
        {
          "output_type": "execute_result",
          "data": {
            "text/plain": [
              "(40, 40, 10, 10)"
            ]
          },
          "metadata": {},
          "execution_count": 38
        }
      ]
    },
    {
      "cell_type": "code",
      "source": [
        "plot_predictions(X_train, y_train, X_test, y_test)"
      ],
      "metadata": {
        "colab": {
          "base_uri": "https://localhost:8080/",
          "height": 460
        },
        "collapsed": true,
        "id": "f5O4HHpcTZcu",
        "outputId": "d62540e1-ca27-44f0-e3e7-a6f413b5bb7b"
      },
      "execution_count": null,
      "outputs": [
        {
          "output_type": "display_data",
          "data": {
            "text/plain": [
              "<Figure size 1000x700 with 1 Axes>"
            ],
            "image/png": "[encoded data removed]"
          },
          "metadata": {}
        }
      ]
    },
    {
      "cell_type": "markdown",
      "source": [
        "### 6.2 Building a PyTorch Linear Model\n"
      ],
      "metadata": {
        "id": "B6HXfUu7Xq87"
      }
    },
    {
      "cell_type": "code",
      "source": [
        "## Create a linear model by subclasssing nn.Moodule\n",
        "class LinearRegressionModel_V_2(nn.Module):\n",
        "  def __init__(self):  # Fixed method name\n",
        "        super().__init__()\n",
        "    ## Use nn.linear() for creating the model parameters\n",
        "        self.linear_layer = nn.Linear(in_features=1,\n",
        "                                  out_features=1)\n",
        "         # Define a linear layer with in_features=1 and out_features=1\n",
        "  def forward(self, x: torch.Tensor) -> torch.Tensor:\n",
        "    return self.linear_layer(x)\n",
        "\n",
        "\n",
        "torch.manual_seed(42)# Set the random seed for reproducibility\n",
        "\n",
        "# Create an instance of the model\n",
        "model_1 = LinearRegressionModel_V_2()\n",
        "model_1, model_1.state_dict()"
      ],
      "metadata": {
        "colab": {
          "base_uri": "https://localhost:8080/"
        },
        "id": "A1Wwpm5xTZZR",
        "outputId": "bc331461-d906-420d-82a2-509a6c42eb40"
      },
      "execution_count": null,
      "outputs": [
        {
          "output_type": "execute_result",
          "data": {
            "text/plain": [
              "(LinearRegressionModel_V_2(\n",
              "   (linear_layer): Linear(in_features=1, out_features=1, bias=True)\n",
              " ),\n",
              " OrderedDict([('linear_layer.weight', tensor([[0.7645]])),\n",
              "              ('linear_layer.bias', tensor([0.8300]))]))"
            ]
          },
          "metadata": {},
          "execution_count": 45
        }
      ]
    },
    {
      "cell_type": "code",
      "source": [
        "next(model_1.parameters()).device"
      ],
      "metadata": {
        "colab": {
          "base_uri": "https://localhost:8080/"
        },
        "id": "Kkbz0gJFTZWk",
        "outputId": "78fee315-2f7e-4227-9e6e-82b548c982bd"
      },
      "execution_count": null,
      "outputs": [
        {
          "output_type": "execute_result",
          "data": {
            "text/plain": [
              "device(type='cpu')"
            ]
          },
          "metadata": {},
          "execution_count": 46
        }
      ]
    },
    {
      "cell_type": "code",
      "source": [
        "# Set model to GPU if it's available, otherwise it'll default to CPU\n",
        "model_1.to(device) # the device variable was set above to be \"cuda\" if available or \"cpu\" if not\n",
        "next(model_1.parameters()).device"
      ],
      "metadata": {
        "colab": {
          "base_uri": "https://localhost:8080/"
        },
        "id": "0PmSd2TvTZT4",
        "outputId": "c2703ba4-093c-471a-e0b7-ebbea5934cf3"
      },
      "execution_count": null,
      "outputs": [
        {
          "output_type": "execute_result",
          "data": {
            "text/plain": [
              "device(type='cpu')"
            ]
          },
          "metadata": {},
          "execution_count": 47
        }
      ]
    },
    {
      "cell_type": "markdown",
      "source": [
        "### 6.3 Training\n",
        " for training we need\n",
        " * Loss function\n",
        " * Optimizer\n",
        " * training loop\n",
        " * testing loop\n",
        "\n"
      ],
      "metadata": {
        "id": "owEiFBZecmXG"
      }
    },
    {
      "cell_type": "code",
      "source": [
        "loss_fn = nn.L1Loss()\n",
        "\n",
        "optimizer = torch.optim.SGD(params = model_1.parameters(),# optimize newly created model's parameters\n",
        "                            lr = 0.01)"
      ],
      "metadata": {
        "id": "rC3ZZgdOTZQ2"
      },
      "execution_count": null,
      "outputs": []
    },
    {
      "cell_type": "code",
      "source": [
        "torch.manual_seed(42)\n",
        "\n",
        "epochs = 1000\n",
        "\n",
        "\n",
        "# Put data on the available device\n",
        "# Without this, error will happen (not all model/data on device)\n",
        "X_train = X_train.to(device)\n",
        "X_test = X_test.to(device)\n",
        "y_train = y_train.to(device)\n",
        "y_test = y_test.to(device)\n",
        "\n",
        "\n",
        "for epoch in range(epochs):\n",
        "    ### Training\n",
        "    model_1.train() # train mode is on by default after construction\n",
        "\n",
        "    # 1. Forward pass\n",
        "    y_pred = model_1(X_train)\n",
        "\n",
        "    # 2. Calculate loss\n",
        "    loss = loss_fn(y_pred, y_train)\n",
        "\n",
        "    # 3. Zero grad optimizer\n",
        "    optimizer.zero_grad()\n",
        "\n",
        "    # 4. Loss backward\n",
        "    loss.backward()\n",
        "\n",
        "    # 5. Step the optimizer\n",
        "    optimizer.step()\n",
        "\n",
        "    ### Testing\n",
        "    model_1.eval() # put the model in evaluation mode for testing (inference)\n",
        "    # 1. Forward pass\n",
        "    with torch.inference_mode():\n",
        "        test_pred = model_1(X_test)\n",
        "\n",
        "        # 2. Calculate the loss\n",
        "        test_loss = loss_fn(test_pred, y_test)\n",
        "\n",
        "    if epoch % 100 == 0:\n",
        "        print(f\"Epoch: {epoch} | Train loss: {loss} | Test loss: {test_loss}\")"
      ],
      "metadata": {
        "colab": {
          "base_uri": "https://localhost:8080/"
        },
        "id": "p5J0bseHZpNC",
        "outputId": "d0fb38c6-3151-4977-e906-3a0192476b72"
      },
      "execution_count": null,
      "outputs": [
        {
          "output_type": "stream",
          "name": "stdout",
          "text": [
            "Epoch: 0 | Train loss: 0.5090939998626709 | Test loss: 0.520092248916626\n",
            "Epoch: 100 | Train loss: 0.0048439702950417995 | Test loss: 0.010365551337599754\n",
            "Epoch: 200 | Train loss: 0.0012645035749301314 | Test loss: 0.013801807537674904\n",
            "Epoch: 300 | Train loss: 0.0012645035749301314 | Test loss: 0.013801807537674904\n",
            "Epoch: 400 | Train loss: 0.0012645035749301314 | Test loss: 0.013801807537674904\n",
            "Epoch: 500 | Train loss: 0.0012645035749301314 | Test loss: 0.013801807537674904\n",
            "Epoch: 600 | Train loss: 0.0012645035749301314 | Test loss: 0.013801807537674904\n",
            "Epoch: 700 | Train loss: 0.0012645035749301314 | Test loss: 0.013801807537674904\n",
            "Epoch: 800 | Train loss: 0.0012645035749301314 | Test loss: 0.013801807537674904\n",
            "Epoch: 900 | Train loss: 0.0012645035749301314 | Test loss: 0.013801807537674904\n"
          ]
        }
      ]
    },
    {
      "cell_type": "code",
      "source": [
        "model_1.state_dict()"
      ],
      "metadata": {
        "colab": {
          "base_uri": "https://localhost:8080/"
        },
        "id": "S_3-AjjpZpJf",
        "outputId": "f36055cc-aa91-47a8-c242-9eeb8f154a81"
      },
      "execution_count": null,
      "outputs": [
        {
          "output_type": "execute_result",
          "data": {
            "text/plain": [
              "OrderedDict([('linear_layer.weight', tensor([[0.6968]])),\n",
              "             ('linear_layer.bias', tensor([0.3025]))])"
            ]
          },
          "metadata": {},
          "execution_count": 55
        }
      ]
    },
    {
      "cell_type": "code",
      "source": [
        "weight, bias"
      ],
      "metadata": {
        "colab": {
          "base_uri": "https://localhost:8080/"
        },
        "id": "g5TNtcq1ZpGW",
        "outputId": "54086901-242b-4fe5-f4bc-1621204d2d44"
      },
      "execution_count": null,
      "outputs": [
        {
          "output_type": "execute_result",
          "data": {
            "text/plain": [
              "(0.7, 0.3)"
            ]
          },
          "metadata": {},
          "execution_count": 56
        }
      ]
    },
    {
      "cell_type": "code",
      "source": [
        "from pprint import pprint # pprint = pretty print, see: https://docs.python.org/3/library/pprint.html\n",
        "print(\"The model learned the following values for weights and bias:\")\n",
        "pprint(model_1.state_dict())\n",
        "print(\"\\nAnd the original values for weights and bias are:\")\n",
        "print(f\"weights: {weight}, bias: {bias}\")"
      ],
      "metadata": {
        "colab": {
          "base_uri": "https://localhost:8080/"
        },
        "id": "KpSgwpd0ZpDd",
        "outputId": "bd73cd0b-a9f6-469e-f946-c5b13e09d36e"
      },
      "execution_count": null,
      "outputs": [
        {
          "output_type": "stream",
          "name": "stdout",
          "text": [
            "The model learned the following values for weights and bias:\n",
            "OrderedDict([('linear_layer.weight', tensor([[0.6968]])),\n",
            "             ('linear_layer.bias', tensor([0.3025]))])\n",
            "\n",
            "And the original values for weights and bias are:\n",
            "weights: 0.7, bias: 0.3\n"
          ]
        }
      ]
    },
    {
      "cell_type": "markdown",
      "source": [
        "####6.4 Making and Evaluating Predictions"
      ],
      "metadata": {
        "id": "wm4gyupigWnc"
      }
    },
    {
      "cell_type": "code",
      "source": [
        "#Turn Model into evaluation mode\n",
        "model_1.eval()\n",
        "\n",
        "# Make predictions on the test data\n",
        "with torch.inference_mode():\n",
        "    y_preds = model_1(X_test)\n",
        "\n",
        "y_preds"
      ],
      "metadata": {
        "colab": {
          "base_uri": "https://localhost:8080/"
        },
        "id": "OeKj5bzDZpAl",
        "outputId": "3e6cfcb2-2f3b-4f84-d3d8-d46a749d45e9"
      },
      "execution_count": null,
      "outputs": [
        {
          "output_type": "execute_result",
          "data": {
            "text/plain": [
              "tensor([[0.8600],\n",
              "        [0.8739],\n",
              "        [0.8878],\n",
              "        [0.9018],\n",
              "        [0.9157],\n",
              "        [0.9296],\n",
              "        [0.9436],\n",
              "        [0.9575],\n",
              "        [0.9714],\n",
              "        [0.9854]])"
            ]
          },
          "metadata": {},
          "execution_count": 59
        }
      ]
    },
    {
      "cell_type": "code",
      "source": [
        "plot_predictions(predictions = y_preds)"
      ],
      "metadata": {
        "colab": {
          "base_uri": "https://localhost:8080/",
          "height": 460
        },
        "id": "f9FvuLrJZosq",
        "outputId": "67f46cc3-748a-410c-9965-4f46ef67b666"
      },
      "execution_count": null,
      "outputs": [
        {
          "output_type": "display_data",
          "data": {
            "text/plain": [
              "<Figure size 1000x700 with 1 Axes>"
            ],
            "image/png": "[encoded data removed]"
          },
          "metadata": {}
        }
      ]
    },
    {
      "cell_type": "markdown",
      "source": [
        "###6.5 Saving and loading the model"
      ],
      "metadata": {
        "id": "BBLApEydhLIt"
      }
    },
    {
      "cell_type": "code",
      "source": [
        "from pathlib import Path\n",
        "\n",
        "# 1. Create models directory\n",
        "MODEL_PATH = Path(\"models\")\n",
        "MODEL_PATH.mkdir(parents=True, exist_ok=True)\n",
        "\n",
        "# 2. Create model save path\n",
        "MODEL_NAME = \"01_pytorch_workflow_model_1.pth\"\n",
        "MODEL_SAVE_PATH = MODEL_PATH / MODEL_NAME\n",
        "\n",
        "# 3. Save the model state dict\n",
        "print(f\"Saving model to: {MODEL_SAVE_PATH}\")\n",
        "torch.save(obj=model_1.state_dict(), # only saving the state_dict() only saves the models learned parameters\n",
        "           f=MODEL_SAVE_PATH)"
      ],
      "metadata": {
        "colab": {
          "base_uri": "https://localhost:8080/"
        },
        "id": "ynydLhk5hKxj",
        "outputId": "1f979b38-bcd6-41a2-98c8-d8f0a475e91d"
      },
      "execution_count": null,
      "outputs": [
        {
          "output_type": "stream",
          "name": "stdout",
          "text": [
            "Saving model to: models/01_pytorch_workflow_model_1.pth\n"
          ]
        }
      ]
    },
    {
      "cell_type": "code",
      "source": [
        "# Instantiate a fresh instance of LinearRegressionModelV2\n",
        "loaded_model_1 = LinearRegressionModel_V_2()\n",
        "\n",
        "# Load model state dict\n",
        "loaded_model_1.load_state_dict(torch.load(MODEL_SAVE_PATH))\n",
        "\n",
        "print(f\"Loaded model:\\n{loaded_model_1}\")\n",
        "print(f\"Model on device:\\n{next(loaded_model_1.parameters()).device}\")"
      ],
      "metadata": {
        "colab": {
          "base_uri": "https://localhost:8080/"
        },
        "id": "1_YeX8RWZopZ",
        "outputId": "72753dc1-7bec-4b7d-b4c4-ceebd75a5168"
      },
      "execution_count": null,
      "outputs": [
        {
          "output_type": "stream",
          "name": "stdout",
          "text": [
            "Loaded model:\n",
            "LinearRegressionModel_V_2(\n",
            "  (linear_layer): Linear(in_features=1, out_features=1, bias=True)\n",
            ")\n",
            "Model on device:\n",
            "cpu\n"
          ]
        },
        {
          "output_type": "stream",
          "name": "stderr",
          "text": [
            "<ipython-input-62-fa04a6809df8>:5: FutureWarning: You are using `torch.load` with `weights_only=False` (the current default value), which uses the default pickle module implicitly. It is possible to construct malicious pickle data which will execute arbitrary code during unpickling (See https://github.com/pytorch/pytorch/blob/main/SECURITY.md#untrusted-models for more details). In a future release, the default value for `weights_only` will be flipped to `True`. This limits the functions that could be executed during unpickling. Arbitrary objects will no longer be allowed to be loaded via this mode unless they are explicitly allowlisted by the user via `torch.serialization.add_safe_globals`. We recommend you start setting `weights_only=True` for any use case where you don't have full control of the loaded file. Please open an issue on GitHub for any issues related to this experimental feature.\n",
            "  loaded_model_1.load_state_dict(torch.load(MODEL_SAVE_PATH))\n"
          ]
        }
      ]
    },
    {
      "cell_type": "code",
      "source": [
        "loaded_model_1.state_dict()"
      ],
      "metadata": {
        "colab": {
          "base_uri": "https://localhost:8080/"
        },
        "id": "tqWa-IjsZomt",
        "outputId": "56e107be-52ba-418c-82d3-a1299a8243bb"
      },
      "execution_count": null,
      "outputs": [
        {
          "output_type": "execute_result",
          "data": {
            "text/plain": [
              "OrderedDict([('linear_layer.weight', tensor([[0.6968]])),\n",
              "             ('linear_layer.bias', tensor([0.3025]))])"
            ]
          },
          "metadata": {},
          "execution_count": 63
        }
      ]
    },
    {
      "cell_type": "code",
      "source": [
        "# Evaluate loaded model\n",
        "loaded_model_1.eval()\n",
        "with torch.inference_mode():\n",
        "    loaded_model_1_preds = loaded_model_1(X_test)\n",
        "y_preds == loaded_model_1_preds"
      ],
      "metadata": {
        "colab": {
          "base_uri": "https://localhost:8080/"
        },
        "id": "vJbnmXv3ZokG",
        "outputId": "3844cc4b-4658-4308-c5e2-3c7f9cceb428"
      },
      "execution_count": null,
      "outputs": [
        {
          "output_type": "execute_result",
          "data": {
            "text/plain": [
              "tensor([[True],\n",
              "        [True],\n",
              "        [True],\n",
              "        [True],\n",
              "        [True],\n",
              "        [True],\n",
              "        [True],\n",
              "        [True],\n",
              "        [True],\n",
              "        [True]])"
            ]
          },
          "metadata": {},
          "execution_count": 64
        }
      ]
    },
    {
      "cell_type": "code",
      "source": [],
      "metadata": {
        "id": "qwRX6k7GZohh"
      },
      "execution_count": null,
      "outputs": []
    },
    {
      "cell_type": "code",
      "source": [],
      "metadata": {
        "id": "NsgdIeuJZoeM"
      },
      "execution_count": null,
      "outputs": []
    },
    {
      "cell_type": "code",
      "source": [],
      "metadata": {
        "id": "82W5zdjkZobN"
      },
      "execution_count": null,
      "outputs": []
    },
    {
      "cell_type": "code",
      "source": [],
      "metadata": {
        "id": "1NJwXSXCg7v7"
      },
      "execution_count": null,
      "outputs": []
    },
    {
      "cell_type": "code",
      "source": [],
      "metadata": {
        "id": "wLZtuTxng7sp"
      },
      "execution_count": null,
      "outputs": []
    },
    {
      "cell_type": "code",
      "source": [],
      "metadata": {
        "id": "XAcT8uHRg7pn"
      },
      "execution_count": null,
      "outputs": []
    }
  ]
}